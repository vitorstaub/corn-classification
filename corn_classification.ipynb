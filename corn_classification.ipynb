{
  "nbformat": 4,
  "nbformat_minor": 0,
  "metadata": {
    "colab": {
      "provenance": [],
      "authorship_tag": "ABX9TyMFVpFB0ehgfPQjgm3hkQ+I",
      "include_colab_link": true
    },
    "kernelspec": {
      "name": "python3",
      "display_name": "Python 3"
    },
    "language_info": {
      "name": "python"
    }
  },
  "cells": [
    {
      "cell_type": "markdown",
      "metadata": {
        "id": "view-in-github",
        "colab_type": "text"
      },
      "source": [
        "<a href=\"https://colab.research.google.com/github/vitorstaub/corn-classification/blob/main/corn_classification.ipynb\" target=\"_parent\"><img src=\"https://colab.research.google.com/assets/colab-badge.svg\" alt=\"Open In Colab\"/></a>"
      ]
    },
    {
      "cell_type": "markdown",
      "source": [
        "# Classificador das principais doenças foliares do milho 🌽\n",
        "---\n",
        "\n",
        "\n",
        "*   Cercosporiose  (Cercospora zeae-maydis)\n",
        "*   Ferrugem Comum\n",
        "*   Mancha Branca\n",
        "\n",
        "\n",
        "\n",
        "\n",
        "\n",
        "\n",
        "---\n",
        "### [Doenças Foliares do Milho - [Embrapa]](https://www.embrapa.br/agencia-de-informacao-tecnologica/cultivos/milho/producao/pragas-e-doencas/doencas/doencas-foliares)\n"
      ],
      "metadata": {
        "id": "m92wrjcupxnu"
      }
    },
    {
      "cell_type": "markdown",
      "source": [
        "1° Instalar as dependências para a API Gemini que está incluído no pacote google-generativeai"
      ],
      "metadata": {
        "id": "-8IxKtt_vJBr"
      }
    },
    {
      "cell_type": "code",
      "execution_count": 1,
      "metadata": {
        "id": "q5A2SqseqqwX"
      },
      "outputs": [],
      "source": [
        "!pip install -q google-generativeai"
      ]
    },
    {
      "cell_type": "markdown",
      "source": [
        "2° Inicializar o modelo generativo com a API key do Google Ai Studio"
      ],
      "metadata": {
        "id": "Rm067ElEv5F1"
      }
    },
    {
      "cell_type": "code",
      "source": [
        "from google.colab import userdata\n",
        "import google.generativeai as genai\n",
        "\n",
        "GOOGLE_API_KEY=userdata.get('API_KEY')\n",
        "genai.configure(api_key=GOOGLE_API_KEY)\n",
        "\n",
        "generation_config = {\n",
        "    'temperature': 0.5,\n",
        "}\n",
        "\n",
        "model = genai.GenerativeModel(model_name=\"gemini-1.0-pro-vision-latest\",\n",
        "                              generation_config=generation_config,)"
      ],
      "metadata": {
        "id": "v1a1r9iZ5dvK"
      },
      "execution_count": 29,
      "outputs": []
    },
    {
      "cell_type": "markdown",
      "source": [
        "3° Listar e atribuir o caminho das imagens da pasta de treinamento"
      ],
      "metadata": {
        "id": "f-vjbWXzwNTb"
      }
    },
    {
      "cell_type": "code",
      "source": [
        "import os\n",
        "import PIL.Image\n",
        "\n",
        "path = '/training'\n",
        "\n",
        "def list_images(folder_path):\n",
        "    images = [os.path.join(folder_path, f) for f in os.listdir(folder_path) if f.endswith(\".png\") or f.endswith(\".jpg\")]\n",
        "    return sorted(images)\n",
        "\n",
        "variables = []\n",
        "images = list_images(path)\n",
        "for idx, image_path in enumerate(images):\n",
        "    img_name = f\"img{idx}\"\n",
        "    img = PIL.Image.open(image_path)\n",
        "    print(image_path)\n",
        "    exec(f\"{img_name} = img\")\n",
        "    variables.append(img_name)\n",
        "\n",
        "print(variables)"
      ],
      "metadata": {
        "id": "cXody13O6r-v",
        "colab": {
          "base_uri": "https://localhost:8080/"
        },
        "outputId": "66406c56-ce89-4db4-cdb2-092a40460719"
      },
      "execution_count": 25,
      "outputs": [
        {
          "output_type": "stream",
          "name": "stdout",
          "text": [
            "/content/img0-cescosporiose.png\n",
            "/content/img1-mancha-branca.jpg\n",
            "/content/img2-ferrugem.jpg\n",
            "/content/img3-cescosporiose.png\n",
            "/content/img4-ferrugem.png\n",
            "/content/img5-mancha-branca.png\n",
            "/content/img6-not.jpg\n",
            "/content/img7-not.jpg\n",
            "['img0', 'img1', 'img2', 'img3', 'img4', 'img5', 'img6', 'img7']\n"
          ]
        }
      ]
    },
    {
      "cell_type": "markdown",
      "source": [
        "# Upload da imagem 🌽🌽🌽\n",
        "---\n",
        "\n",
        "4° Fazer  o upload da imagem que se quer identificar (a imagem deve ser da folha do milho, enquanto melhor a imagem mais preciso será)"
      ],
      "metadata": {
        "id": "zDgkEMgTwem-"
      }
    },
    {
      "cell_type": "code",
      "source": [
        "from google.colab import files\n",
        "\n",
        "print(\"Por favor escolha um arquivo para envio:\")\n",
        "uploaded = files.upload()\n",
        "\n",
        "for fn in uploaded.keys():\n",
        "  print('Imagem enviada \"{name}\" com tamanho {length} bytes'.format(\n",
        "      name=fn, length=len(uploaded[fn])))\n",
        "  input = PIL.Image.open(fn)"
      ],
      "metadata": {
        "colab": {
          "base_uri": "https://localhost:8080/",
          "height": 108
        },
        "id": "Kt24rDogdAlW",
        "outputId": "15194ccb-06c3-49cf-8058-2d90bb610a90"
      },
      "execution_count": 31,
      "outputs": [
        {
          "output_type": "stream",
          "name": "stdout",
          "text": [
            "Por favor escolha um arquivo para envio:\n"
          ]
        },
        {
          "output_type": "display_data",
          "data": {
            "text/plain": [
              "<IPython.core.display.HTML object>"
            ],
            "text/html": [
              "\n",
              "     <input type=\"file\" id=\"files-41348084-1dab-4a53-9926-e97dc65b9cf7\" name=\"files[]\" multiple disabled\n",
              "        style=\"border:none\" />\n",
              "     <output id=\"result-41348084-1dab-4a53-9926-e97dc65b9cf7\">\n",
              "      Upload widget is only available when the cell has been executed in the\n",
              "      current browser session. Please rerun this cell to enable.\n",
              "      </output>\n",
              "      <script>// Copyright 2017 Google LLC\n",
              "//\n",
              "// Licensed under the Apache License, Version 2.0 (the \"License\");\n",
              "// you may not use this file except in compliance with the License.\n",
              "// You may obtain a copy of the License at\n",
              "//\n",
              "//      http://www.apache.org/licenses/LICENSE-2.0\n",
              "//\n",
              "// Unless required by applicable law or agreed to in writing, software\n",
              "// distributed under the License is distributed on an \"AS IS\" BASIS,\n",
              "// WITHOUT WARRANTIES OR CONDITIONS OF ANY KIND, either express or implied.\n",
              "// See the License for the specific language governing permissions and\n",
              "// limitations under the License.\n",
              "\n",
              "/**\n",
              " * @fileoverview Helpers for google.colab Python module.\n",
              " */\n",
              "(function(scope) {\n",
              "function span(text, styleAttributes = {}) {\n",
              "  const element = document.createElement('span');\n",
              "  element.textContent = text;\n",
              "  for (const key of Object.keys(styleAttributes)) {\n",
              "    element.style[key] = styleAttributes[key];\n",
              "  }\n",
              "  return element;\n",
              "}\n",
              "\n",
              "// Max number of bytes which will be uploaded at a time.\n",
              "const MAX_PAYLOAD_SIZE = 100 * 1024;\n",
              "\n",
              "function _uploadFiles(inputId, outputId) {\n",
              "  const steps = uploadFilesStep(inputId, outputId);\n",
              "  const outputElement = document.getElementById(outputId);\n",
              "  // Cache steps on the outputElement to make it available for the next call\n",
              "  // to uploadFilesContinue from Python.\n",
              "  outputElement.steps = steps;\n",
              "\n",
              "  return _uploadFilesContinue(outputId);\n",
              "}\n",
              "\n",
              "// This is roughly an async generator (not supported in the browser yet),\n",
              "// where there are multiple asynchronous steps and the Python side is going\n",
              "// to poll for completion of each step.\n",
              "// This uses a Promise to block the python side on completion of each step,\n",
              "// then passes the result of the previous step as the input to the next step.\n",
              "function _uploadFilesContinue(outputId) {\n",
              "  const outputElement = document.getElementById(outputId);\n",
              "  const steps = outputElement.steps;\n",
              "\n",
              "  const next = steps.next(outputElement.lastPromiseValue);\n",
              "  return Promise.resolve(next.value.promise).then((value) => {\n",
              "    // Cache the last promise value to make it available to the next\n",
              "    // step of the generator.\n",
              "    outputElement.lastPromiseValue = value;\n",
              "    return next.value.response;\n",
              "  });\n",
              "}\n",
              "\n",
              "/**\n",
              " * Generator function which is called between each async step of the upload\n",
              " * process.\n",
              " * @param {string} inputId Element ID of the input file picker element.\n",
              " * @param {string} outputId Element ID of the output display.\n",
              " * @return {!Iterable<!Object>} Iterable of next steps.\n",
              " */\n",
              "function* uploadFilesStep(inputId, outputId) {\n",
              "  const inputElement = document.getElementById(inputId);\n",
              "  inputElement.disabled = false;\n",
              "\n",
              "  const outputElement = document.getElementById(outputId);\n",
              "  outputElement.innerHTML = '';\n",
              "\n",
              "  const pickedPromise = new Promise((resolve) => {\n",
              "    inputElement.addEventListener('change', (e) => {\n",
              "      resolve(e.target.files);\n",
              "    });\n",
              "  });\n",
              "\n",
              "  const cancel = document.createElement('button');\n",
              "  inputElement.parentElement.appendChild(cancel);\n",
              "  cancel.textContent = 'Cancel upload';\n",
              "  const cancelPromise = new Promise((resolve) => {\n",
              "    cancel.onclick = () => {\n",
              "      resolve(null);\n",
              "    };\n",
              "  });\n",
              "\n",
              "  // Wait for the user to pick the files.\n",
              "  const files = yield {\n",
              "    promise: Promise.race([pickedPromise, cancelPromise]),\n",
              "    response: {\n",
              "      action: 'starting',\n",
              "    }\n",
              "  };\n",
              "\n",
              "  cancel.remove();\n",
              "\n",
              "  // Disable the input element since further picks are not allowed.\n",
              "  inputElement.disabled = true;\n",
              "\n",
              "  if (!files) {\n",
              "    return {\n",
              "      response: {\n",
              "        action: 'complete',\n",
              "      }\n",
              "    };\n",
              "  }\n",
              "\n",
              "  for (const file of files) {\n",
              "    const li = document.createElement('li');\n",
              "    li.append(span(file.name, {fontWeight: 'bold'}));\n",
              "    li.append(span(\n",
              "        `(${file.type || 'n/a'}) - ${file.size} bytes, ` +\n",
              "        `last modified: ${\n",
              "            file.lastModifiedDate ? file.lastModifiedDate.toLocaleDateString() :\n",
              "                                    'n/a'} - `));\n",
              "    const percent = span('0% done');\n",
              "    li.appendChild(percent);\n",
              "\n",
              "    outputElement.appendChild(li);\n",
              "\n",
              "    const fileDataPromise = new Promise((resolve) => {\n",
              "      const reader = new FileReader();\n",
              "      reader.onload = (e) => {\n",
              "        resolve(e.target.result);\n",
              "      };\n",
              "      reader.readAsArrayBuffer(file);\n",
              "    });\n",
              "    // Wait for the data to be ready.\n",
              "    let fileData = yield {\n",
              "      promise: fileDataPromise,\n",
              "      response: {\n",
              "        action: 'continue',\n",
              "      }\n",
              "    };\n",
              "\n",
              "    // Use a chunked sending to avoid message size limits. See b/62115660.\n",
              "    let position = 0;\n",
              "    do {\n",
              "      const length = Math.min(fileData.byteLength - position, MAX_PAYLOAD_SIZE);\n",
              "      const chunk = new Uint8Array(fileData, position, length);\n",
              "      position += length;\n",
              "\n",
              "      const base64 = btoa(String.fromCharCode.apply(null, chunk));\n",
              "      yield {\n",
              "        response: {\n",
              "          action: 'append',\n",
              "          file: file.name,\n",
              "          data: base64,\n",
              "        },\n",
              "      };\n",
              "\n",
              "      let percentDone = fileData.byteLength === 0 ?\n",
              "          100 :\n",
              "          Math.round((position / fileData.byteLength) * 100);\n",
              "      percent.textContent = `${percentDone}% done`;\n",
              "\n",
              "    } while (position < fileData.byteLength);\n",
              "  }\n",
              "\n",
              "  // All done.\n",
              "  yield {\n",
              "    response: {\n",
              "      action: 'complete',\n",
              "    }\n",
              "  };\n",
              "}\n",
              "\n",
              "scope.google = scope.google || {};\n",
              "scope.google.colab = scope.google.colab || {};\n",
              "scope.google.colab._files = {\n",
              "  _uploadFiles,\n",
              "  _uploadFilesContinue,\n",
              "};\n",
              "})(self);\n",
              "</script> "
            ]
          },
          "metadata": {}
        },
        {
          "output_type": "stream",
          "name": "stdout",
          "text": [
            "Saving z-cercosporiose-teste.jpg to z-cercosporiose-teste.jpg\n",
            "Imagem enviada \"z-cercosporiose-teste.jpg\" com tamanho 49669 bytes\n"
          ]
        }
      ]
    },
    {
      "cell_type": "markdown",
      "source": [
        "5° Treinamento e resposta do modelo segundo a imagem enviada"
      ],
      "metadata": {
        "id": "JaIyKGevwwdS"
      }
    },
    {
      "cell_type": "code",
      "source": [
        "prompt_parts = [\n",
        "  \"Você é um modelo de reconhecimento de doenças do milho, com base nos exemplos. o usuário vai mandar uma imagem e você irá retornar o tipo de doença analisando os detalhes da imagem. O output só pode ser de doenças mostradas nos exemplos que são: Cercosporiose do milho, Mancha branca, Ferrugem Comum.\",\n",
        "  \"input: Qual a doença dessa folha de milho?\",\n",
        "  img0,\n",
        "  \"output: Cercosporiose  (Cercospora zeae-maydis):\\n\\nSintomas: \\n\\nOs sintomas caracterizam-se por manchas de coloração cinza, predominantemente retangulares, com as lesões desenvolvendo-se paralelas às nervuras. Com o desenvolvimento dos sintomas da doença, pode ocorrer necrose de todo o tecido foliar. Em situações de ataques mais severos, as plantas tornam-se mais predispostas às infecções por patógenos no colmo, resultando em maior incidência de acamamento de plantas.\\n\\nManejo da doença:\\n\\nRecomenda-se: evitar a permanência de restos da cultura de milho em áreas em que a doença ocorreu com alta severidade para reduzir o inóculo do patógeno na área; realizar a rotação com culturas não hospedeiras como a soja, o sorgo, o girassol, o algodão e outras, uma vez que o milho é o único hospedeiro de C. zeae-maydis; para evitar o aumento do potencial de inóculo de C. zeae-maydis, deve-se evitar o plantio seguido de milho na mesma área; plantar cultivares diferentes em uma mesma área e em cada época de plantio; realizar adubações de acordo com as recomendações técnicas para evitar desequilíbrios nutricionais nas plantas, favoráveis ao desenvolvimento desse patógeno, principalmente a relação nitrogênio/potássio. Para que essas medidas sejam eficientes, recomenda-se a sua aplicação regional (em macrorregiões) para evitar que a doença volte a se manifestar a partir de inóculo trazido pelo vento de lavouras vizinhas infectadas. Em áreas com plantio de cultivares suscetíveis e sob condições ambientais favoráveis para a ocorrência da doença, o controle químico deve ser avaliado como uma opção para o manejo da doença.\",\n",
        "  \"input: Qual a doença dessa folha de milho?\",\n",
        "  img1,\n",
        "  \"output: Mancha branca:\\n\\nAs lesões da mancha branca são, inicialmente, circulares, aquosas e verde claras (anasarcas). Posteriormente, passam a necróticas, de cor palha, circulares a elípticas, com diâmetro variando de 0,3 cm a 1 cm. Geralmente, são encontradas dispersas no limbo foliar, mas iniciam-se na ponta da folha progredindo para a base, podendo coalescer. Em geral, os sintomas aparecem inicialmente nas folhas inferiores, progredindo rapidamente para as superiores, sendo mais severos após o pendoamento. Sob condições de ataque severo, os sintomas da doença podem ser observados também na palha da espiga. Em condições de campo, os sintomas não ocorrem, normalmente, em plântulas de milho.\",\n",
        "  \"input: Qual a doença dessa folha de milho?\",\n",
        "  img2,\n",
        "  \"output: Ferrugem Comum:\\n\\nA ferrugem comum caracteriza-se pela formação de pústulas em toda a parte aérea da planta, mas com maior abundância nas folhas. As pústulas ocorrem em ambas as superfícies da folha, sendo esta uma das características que a diferencia da ferrugem polissora, cujas pústulas predominam na superfície superior da folha. As pústulas da ferrugem comum apresentam formato circular a alongado e coloração castanho clara a escuro, que se acentua à medida em que as pústulas amadurecem e se rompem, liberando os uredósporos, que são os esporos típicos do patógeno. Sob condições ambientais favoráveis, as pústulas podem coalescer, formando grandes áreas necróticas nas folhas.\",\n",
        "  \"input: Qual a doença dessa folha de milho?\",\n",
        "  img3,\n",
        "  \"output: Cercosporiose  (Cercospora zeae-maydis):\\n\\nSintomas: \\n\\nOs sintomas caracterizam-se por manchas de coloração cinza, predominantemente retangulares, com as lesões desenvolvendo-se paralelas às nervuras. Com o desenvolvimento dos sintomas da doença, pode ocorrer necrose de todo o tecido foliar. Em situações de ataques mais severos, as plantas tornam-se mais predispostas às infecções por patógenos no colmo, resultando em maior incidência de acamamento de plantas.\\n\\nManejo da doença:\\n\\nRecomenda-se: evitar a permanência de restos da cultura de milho em áreas em que a doença ocorreu com alta severidade para reduzir o inóculo do patógeno na área; realizar a rotação com culturas não hospedeiras como a soja, o sorgo, o girassol, o algodão e outras, uma vez que o milho é o único hospedeiro de C. zeae-maydis; para evitar o aumento do potencial de inóculo de C. zeae-maydis, deve-se evitar o plantio seguido de milho na mesma área; plantar cultivares diferentes em uma mesma área e em cada época de plantio; realizar adubações de acordo com as recomendações técnicas para evitar desequilíbrios nutricionais nas plantas, favoráveis ao desenvolvimento desse patógeno, principalmente a relação nitrogênio/potássio. Para que essas medidas sejam eficientes, recomenda-se a sua aplicação regional (em macrorregiões) para evitar que a doença volte a se manifestar a partir de inóculo trazido pelo vento de lavouras vizinhas infectadas. Em áreas com plantio de cultivares suscetíveis e sob condições ambientais favoráveis para a ocorrência da doença, o controle químico deve ser avaliado como uma opção para o manejo da doença.\",\n",
        "  \"input: Qual a doença dessa folha de milho?\",\n",
        "  img4,\n",
        "  \"output: Ferrugem Comum:\\n\\nA ferrugem comum caracteriza-se pela formação de pústulas em toda a parte aérea da planta, mas com maior abundância nas folhas. As pústulas ocorrem em ambas as superfícies da folha, sendo esta uma das características que a diferencia da ferrugem polissora, cujas pústulas predominam na superfície superior da folha. As pústulas da ferrugem comum apresentam formato circular a alongado e coloração castanho clara a escuro, que se acentua à medida em que as pústulas amadurecem e se rompem, liberando os uredósporos, que são os esporos típicos do patógeno. Sob condições ambientais favoráveis, as pústulas podem coalescer, formando grandes áreas necróticas nas folhas.\",\n",
        "  \"input: Qual a doença dessa folha de milho?\",\n",
        "  img5,\n",
        "  \"output: Mancha branca:\\n\\nAs lesões da mancha branca são, inicialmente, circulares, aquosas e verde claras (anasarcas). Posteriormente, passam a necróticas, de cor palha, circulares a elípticas, com diâmetro variando de 0,3 cm a 1 cm. Geralmente, são encontradas dispersas no limbo foliar, mas iniciam-se na ponta da folha progredindo para a base, podendo coalescer. Em geral, os sintomas aparecem inicialmente nas folhas inferiores, progredindo rapidamente para as superiores, sendo mais severos após o pendoamento. Sob condições de ataque severo, os sintomas da doença podem ser observados também na palha da espiga. Em condições de campo, os sintomas não ocorrem, normalmente, em plântulas de milho.\",\n",
        "  \"input: Qual a doença dessa folha de milho?\",\n",
        "  img6,\n",
        "  \"output: Folha de milho saudavel\",\n",
        "  \"input: Qual a doença dessa folha de milho?\",\n",
        "  img7,\n",
        "  \"output: Folha de milho saudavel\",\n",
        "  \"input: Qual a doença dessa folha de milho?\",\n",
        "  input,\n",
        "  \"output: \",\n",
        "]\n",
        "\n",
        "response = model.generate_content(prompt_parts)\n",
        "print(response.text)"
      ],
      "metadata": {
        "colab": {
          "base_uri": "https://localhost:8080/",
          "height": 193
        },
        "id": "YSmDYMq9m3Sx",
        "outputId": "9eb40504-974f-4d37-984b-503200761ddc"
      },
      "execution_count": 32,
      "outputs": [
        {
          "output_type": "stream",
          "name": "stdout",
          "text": [
            " Cercosporiose  (Cercospora zeae-maydis):\n",
            "\n",
            "Sintomas: \n",
            "\n",
            "Os sintomas caracterizam-se por manchas de coloração cinza, predominantemente retangulares, com as lesões desenvolvendo-se paralelas às nervuras. Com o desenvolvimento dos sintomas da doença, pode ocorrer necrose de todo o tecido foliar. Em situações de ataques mais severos, as plantas tornam-se mais predispostas às infecções por patógenos no colmo, resultando em maior incidência de acamamento de plantas.\n",
            "\n",
            "Manejo da doença:\n",
            "\n",
            "Recomenda-se: evitar a permanência de restos da cultura de milho em áreas em que a doença ocorreu com alta severidade para reduzir o inóculo do patógeno na área; realizar a rotação com culturas não hospedeiras como a soja, o sorgo, o girassol, o algodão e outras, uma vez que o milho é o único hospedeiro de C. zeae-maydis; para evitar o aumento do potencial de inóculo de C. zeae-maydis, deve-se evitar o plantio seguido de milho na mesma área; plantar cultivares diferentes em uma mesma área e em cada época de plantio; realizar adubações de acordo com as recomendações técnicas para evitar desequilíbrios nutricionais nas plantas, favoráveis ao desenvolvimento desse patógeno, principalmente a relação nitrogênio/potássio. Para que essas medidas sejam eficientes, recomenda-se a sua aplicação regional (em macrorregiões) para evitar que a doença volte a se manifestar a partir de inóculo trazido pelo vento de lavouras vizinhas infectadas. Em áreas com plantio de cultivares suscetíveis e sob condições ambientais favoráveis para a ocorrência da doença, o controle químico deve ser avaliado como uma opção para o manejo da doença.\n"
          ]
        }
      ]
    },
    {
      "cell_type": "markdown",
      "source": [
        "# Deixando o texto mais bonito\n",
        "---"
      ],
      "metadata": {
        "id": "3JIYNeHD55Pg"
      }
    },
    {
      "cell_type": "code",
      "source": [
        "from IPython.display import display\n",
        "from IPython.display import Markdown\n",
        "import textwrap\n",
        "\n",
        "def to_markdown(text):\n",
        "  text = text.replace('•', '  *')\n",
        "  return Markdown(textwrap.indent(text, '> ', predicate=lambda _: True))\n",
        "\n",
        "to_markdown(response.text)"
      ],
      "metadata": {
        "colab": {
          "base_uri": "https://localhost:8080/",
          "height": 312
        },
        "id": "dU-eu_vF4fj8",
        "outputId": "013d1625-adb8-44c9-cf20-df6101a775c7"
      },
      "execution_count": 33,
      "outputs": [
        {
          "output_type": "execute_result",
          "data": {
            "text/plain": [
              "<IPython.core.display.Markdown object>"
            ],
            "text/markdown": ">  Cercosporiose  (Cercospora zeae-maydis):\n> \n> Sintomas: \n> \n> Os sintomas caracterizam-se por manchas de coloração cinza, predominantemente retangulares, com as lesões desenvolvendo-se paralelas às nervuras. Com o desenvolvimento dos sintomas da doença, pode ocorrer necrose de todo o tecido foliar. Em situações de ataques mais severos, as plantas tornam-se mais predispostas às infecções por patógenos no colmo, resultando em maior incidência de acamamento de plantas.\n> \n> Manejo da doença:\n> \n> Recomenda-se: evitar a permanência de restos da cultura de milho em áreas em que a doença ocorreu com alta severidade para reduzir o inóculo do patógeno na área; realizar a rotação com culturas não hospedeiras como a soja, o sorgo, o girassol, o algodão e outras, uma vez que o milho é o único hospedeiro de C. zeae-maydis; para evitar o aumento do potencial de inóculo de C. zeae-maydis, deve-se evitar o plantio seguido de milho na mesma área; plantar cultivares diferentes em uma mesma área e em cada época de plantio; realizar adubações de acordo com as recomendações técnicas para evitar desequilíbrios nutricionais nas plantas, favoráveis ao desenvolvimento desse patógeno, principalmente a relação nitrogênio/potássio. Para que essas medidas sejam eficientes, recomenda-se a sua aplicação regional (em macrorregiões) para evitar que a doença volte a se manifestar a partir de inóculo trazido pelo vento de lavouras vizinhas infectadas. Em áreas com plantio de cultivares suscetíveis e sob condições ambientais favoráveis para a ocorrência da doença, o controle químico deve ser avaliado como uma opção para o manejo da doença."
          },
          "metadata": {},
          "execution_count": 33
        }
      ]
    }
  ]
}